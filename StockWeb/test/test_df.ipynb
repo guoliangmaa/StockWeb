{
 "cells": [
  {
   "cell_type": "code",
   "execution_count": 1,
   "id": "initial_id",
   "metadata": {
    "collapsed": true,
    "ExecuteTime": {
     "end_time": "2024-06-09T02:35:27.316995100Z",
     "start_time": "2024-06-09T02:35:27.058057300Z"
    }
   },
   "outputs": [],
   "source": [
    "import pandas as pd"
   ]
  },
  {
   "cell_type": "code",
   "execution_count": 2,
   "outputs": [
    {
     "name": "stdout",
     "output_type": "stream",
     "text": [
      "    Name  Age\n",
      "0  Alice   25\n",
      "1    Bob   30\n",
      "    Name  Salary\n",
      "0  Alice   50000\n",
      "1    Bob   60000\n"
     ]
    }
   ],
   "source": [
    "# 根据键合并\n",
    "df1 = pd.DataFrame({'Name': ['Alice', 'Bob'], 'Age': [25, 30]})\n",
    "df2 = pd.DataFrame({'Name': ['Alice', 'Bob'], 'Salary': [50000, 60000]})\n",
    "\n",
    "print(df1)\n",
    "print(df2)"
   ],
   "metadata": {
    "collapsed": false,
    "ExecuteTime": {
     "end_time": "2024-06-09T02:35:50.058573200Z",
     "start_time": "2024-06-09T02:35:50.043605800Z"
    }
   },
   "id": "b16d3cd3b3d233a2"
  },
  {
   "cell_type": "code",
   "execution_count": 3,
   "outputs": [
    {
     "name": "stdout",
     "output_type": "stream",
     "text": [
      "    Name  Age  Salary\n",
      "0  Alice   25   50000\n",
      "1    Bob   30   60000\n"
     ]
    }
   ],
   "source": [
    "df = pd.merge(df1, df2, on='Name')\n",
    "print(df)"
   ],
   "metadata": {
    "collapsed": false,
    "ExecuteTime": {
     "end_time": "2024-06-09T02:35:55.263942400Z",
     "start_time": "2024-06-09T02:35:55.246907200Z"
    }
   },
   "id": "5808edd7bc9ba768"
  },
  {
   "cell_type": "code",
   "execution_count": 1,
   "outputs": [
    {
     "name": "stdout",
     "output_type": "stream",
     "text": [
      "原始 DataFrame:\n",
      "   id     name  age\n",
      "0   1    Alice   24\n",
      "1   2      Bob   27\n",
      "2   3  Charlie   22\n",
      "3   4    David   32\n",
      "\n",
      "找到的行索引: 1\n",
      "\n",
      "修改后的 DataFrame:\n",
      "   id     name  age\n",
      "0   1    Alice   24\n",
      "1   2   Robert   28\n",
      "2   3  Charlie   22\n",
      "3   4    David   32\n"
     ]
    }
   ],
   "source": [
    "import pandas as pd\n",
    "\n",
    "# 创建一个示例 DataFrame\n",
    "data = {\n",
    "    'id': [1, 2, 3, 4],\n",
    "    'name': ['Alice', 'Bob', 'Charlie', 'David'],\n",
    "    'age': [24, 27, 22, 32]\n",
    "}\n",
    "df = pd.DataFrame(data)\n",
    "print(\"原始 DataFrame:\")\n",
    "print(df)\n",
    "\n",
    "# 查找 'id' 为 2 的行\n",
    "row_index = df[df['id'] == 2].index[0]\n",
    "print(\"\\n找到的行索引:\", row_index)\n",
    "\n",
    "# 修改 'name' 和 'age' 列的数据\n",
    "df.at[row_index, 'name'] = 'Robert'\n",
    "df.at[row_index, 'age'] = 28\n",
    "\n",
    "print(\"\\n修改后的 DataFrame:\")\n",
    "print(df)\n"
   ],
   "metadata": {
    "collapsed": false,
    "ExecuteTime": {
     "end_time": "2024-06-10T12:25:25.469877Z",
     "start_time": "2024-06-10T12:25:25.212823600Z"
    }
   },
   "id": "8c1922a062d3cfcc"
  },
  {
   "cell_type": "code",
   "execution_count": null,
   "outputs": [],
   "source": [],
   "metadata": {
    "collapsed": false
   },
   "id": "7eac52f26464de8a"
  }
 ],
 "metadata": {
  "kernelspec": {
   "display_name": "Python 3",
   "language": "python",
   "name": "python3"
  },
  "language_info": {
   "codemirror_mode": {
    "name": "ipython",
    "version": 2
   },
   "file_extension": ".py",
   "mimetype": "text/x-python",
   "name": "python",
   "nbconvert_exporter": "python",
   "pygments_lexer": "ipython2",
   "version": "2.7.6"
  }
 },
 "nbformat": 4,
 "nbformat_minor": 5
}
